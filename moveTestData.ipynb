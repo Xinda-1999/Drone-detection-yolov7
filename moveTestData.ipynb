{
 "cells": [
  {
   "cell_type": "code",
   "execution_count": 11,
   "id": "3177e983",
   "metadata": {},
   "outputs": [],
   "source": [
    "input_path = \"./Origin_dataset/test/20190925_124612_1_3/\"\n",
    "output_path = \"./VOC\"\n",
    "\n",
    "for set_name in [\"images\",\"labels\"]:\n",
    "    for file_name in os.listdir(os.path.join(output_path,set_name,\"test\")):\n",
    "        os.remove(os.path.join(output_path, set_name, \"test\", file_name))\n",
    "    \n",
    "    \n",
    "for file_name in os.listdir(os.path.join(input_path)):\n",
    "    shutil.copy(os.path.join(input_path, file_name), os.path.join(output_path, \"images\", \"test\", file_name))"
   ]
  },
  {
   "cell_type": "code",
   "execution_count": null,
   "id": "0a4e01aa",
   "metadata": {},
   "outputs": [],
   "source": []
  }
 ],
 "metadata": {
  "kernelspec": {
   "display_name": "Python 3 (ipykernel)",
   "language": "python",
   "name": "python3"
  },
  "language_info": {
   "codemirror_mode": {
    "name": "ipython",
    "version": 3
   },
   "file_extension": ".py",
   "mimetype": "text/x-python",
   "name": "python",
   "nbconvert_exporter": "python",
   "pygments_lexer": "ipython3",
   "version": "3.9.12"
  }
 },
 "nbformat": 4,
 "nbformat_minor": 5
}
